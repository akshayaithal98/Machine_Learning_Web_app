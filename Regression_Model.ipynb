{
 "cells": [
  {
   "cell_type": "markdown",
   "id": "590a53bc",
   "metadata": {},
   "source": [
    "<div align=\"center\" style=\"color:red;font-size:30px\">Model to predict the insurance policy amount</div>\n"
   ]
  },
  {
   "cell_type": "markdown",
   "id": "d7878076",
   "metadata": {},
   "source": [
    "#### Importing libraries and dataset"
   ]
  },
  {
   "cell_type": "code",
   "execution_count": 2,
   "id": "4d98b9fd",
   "metadata": {},
   "outputs": [],
   "source": [
    "import pandas as pd\n",
    "import numpy as np\n",
    "import seaborn as sns\n",
    "import matplotlib.pyplot as plt\n",
    "from sklearn.preprocessing import LabelEncoder,StandardScaler,MinMaxScaler,OneHotEncoder\n",
    "from sklearn.model_selection import train_test_split,cross_val_score,GridSearchCV,RepeatedKFold,KFold\n",
    "from sklearn.metrics import mean_squared_error,mean_absolute_error\n",
    "from sklearn.linear_model import LinearRegression\n",
    "from sklearn.tree import DecisionTreeRegressor\n",
    "from sklearn.ensemble import RandomForestRegressor\n",
    "from sklearn.ensemble import AdaBoostRegressor\n",
    "from sklearn.ensemble import StackingRegressor\n",
    "from sklearn.neighbors import KNeighborsRegressor\n",
    "from sklearn.svm import SVR\n",
    "import pickle\n",
    "from sklearn.compose import ColumnTransformer\n",
    "from sklearn.pipeline import Pipeline,make_pipeline\n",
    "import warnings\n",
    "warnings.filterwarnings(\"ignore\")"
   ]
  },
  {
   "cell_type": "code",
   "execution_count": 3,
   "id": "9dbc71bf",
   "metadata": {},
   "outputs": [
    {
     "data": {
      "text/html": [
       "<div>\n",
       "<style scoped>\n",
       "    .dataframe tbody tr th:only-of-type {\n",
       "        vertical-align: middle;\n",
       "    }\n",
       "\n",
       "    .dataframe tbody tr th {\n",
       "        vertical-align: top;\n",
       "    }\n",
       "\n",
       "    .dataframe thead th {\n",
       "        text-align: right;\n",
       "    }\n",
       "</style>\n",
       "<table border=\"1\" class=\"dataframe\">\n",
       "  <thead>\n",
       "    <tr style=\"text-align: right;\">\n",
       "      <th></th>\n",
       "      <th>age</th>\n",
       "      <th>sex</th>\n",
       "      <th>bmi</th>\n",
       "      <th>classif</th>\n",
       "      <th>children</th>\n",
       "      <th>smoker</th>\n",
       "      <th>region</th>\n",
       "      <th>charges</th>\n",
       "    </tr>\n",
       "  </thead>\n",
       "  <tbody>\n",
       "    <tr>\n",
       "      <th>0</th>\n",
       "      <td>19</td>\n",
       "      <td>female</td>\n",
       "      <td>27.900</td>\n",
       "      <td>PREO</td>\n",
       "      <td>0</td>\n",
       "      <td>yes</td>\n",
       "      <td>southwest</td>\n",
       "      <td>16884.92400</td>\n",
       "    </tr>\n",
       "    <tr>\n",
       "      <th>1</th>\n",
       "      <td>18</td>\n",
       "      <td>male</td>\n",
       "      <td>33.770</td>\n",
       "      <td>OB1</td>\n",
       "      <td>1</td>\n",
       "      <td>no</td>\n",
       "      <td>southeast</td>\n",
       "      <td>1725.55230</td>\n",
       "    </tr>\n",
       "    <tr>\n",
       "      <th>2</th>\n",
       "      <td>28</td>\n",
       "      <td>male</td>\n",
       "      <td>33.000</td>\n",
       "      <td>OB1</td>\n",
       "      <td>3</td>\n",
       "      <td>no</td>\n",
       "      <td>southeast</td>\n",
       "      <td>4449.46200</td>\n",
       "    </tr>\n",
       "    <tr>\n",
       "      <th>3</th>\n",
       "      <td>0</td>\n",
       "      <td>male</td>\n",
       "      <td>22.705</td>\n",
       "      <td>N</td>\n",
       "      <td>0</td>\n",
       "      <td>no</td>\n",
       "      <td>northwest</td>\n",
       "      <td>21984.47061</td>\n",
       "    </tr>\n",
       "    <tr>\n",
       "      <th>4</th>\n",
       "      <td>32</td>\n",
       "      <td>male</td>\n",
       "      <td>28.880</td>\n",
       "      <td>PREO</td>\n",
       "      <td>0</td>\n",
       "      <td>no</td>\n",
       "      <td>northwest</td>\n",
       "      <td>3866.85520</td>\n",
       "    </tr>\n",
       "  </tbody>\n",
       "</table>\n",
       "</div>"
      ],
      "text/plain": [
       "   age     sex     bmi classif  children smoker     region      charges\n",
       "0   19  female  27.900    PREO         0    yes  southwest  16884.92400\n",
       "1   18    male  33.770     OB1         1     no  southeast   1725.55230\n",
       "2   28    male  33.000     OB1         3     no  southeast   4449.46200\n",
       "3    0    male  22.705       N         0     no  northwest  21984.47061\n",
       "4   32    male  28.880    PREO         0     no  northwest   3866.85520"
      ]
     },
     "execution_count": 3,
     "metadata": {},
     "output_type": "execute_result"
    }
   ],
   "source": [
    "df=pd.read_csv(\"DS3_C6_S1_Regression_Insurance_Data_Project.csv\")\n",
    "df.head()"
   ]
  },
  {
   "cell_type": "code",
   "execution_count": 4,
   "id": "d985fbd6",
   "metadata": {},
   "outputs": [
    {
     "data": {
      "text/plain": [
       "(1338, 8)"
      ]
     },
     "execution_count": 4,
     "metadata": {},
     "output_type": "execute_result"
    }
   ],
   "source": [
    "df.shape"
   ]
  },
  {
   "cell_type": "code",
   "execution_count": 5,
   "id": "8997d6e1",
   "metadata": {},
   "outputs": [
    {
     "name": "stdout",
     "output_type": "stream",
     "text": [
      "<class 'pandas.core.frame.DataFrame'>\n",
      "RangeIndex: 1338 entries, 0 to 1337\n",
      "Data columns (total 8 columns):\n",
      " #   Column    Non-Null Count  Dtype  \n",
      "---  ------    --------------  -----  \n",
      " 0   age       1338 non-null   int64  \n",
      " 1   sex       1338 non-null   object \n",
      " 2   bmi       1338 non-null   float64\n",
      " 3   classif   1330 non-null   object \n",
      " 4   children  1338 non-null   int64  \n",
      " 5   smoker    1338 non-null   object \n",
      " 6   region    1338 non-null   object \n",
      " 7   charges   1338 non-null   float64\n",
      "dtypes: float64(2), int64(2), object(4)\n",
      "memory usage: 83.8+ KB\n"
     ]
    }
   ],
   "source": [
    "df.info()"
   ]
  },
  {
   "cell_type": "code",
   "execution_count": 6,
   "id": "9923a7fa",
   "metadata": {},
   "outputs": [
    {
     "data": {
      "text/html": [
       "<div>\n",
       "<style scoped>\n",
       "    .dataframe tbody tr th:only-of-type {\n",
       "        vertical-align: middle;\n",
       "    }\n",
       "\n",
       "    .dataframe tbody tr th {\n",
       "        vertical-align: top;\n",
       "    }\n",
       "\n",
       "    .dataframe thead th {\n",
       "        text-align: right;\n",
       "    }\n",
       "</style>\n",
       "<table border=\"1\" class=\"dataframe\">\n",
       "  <thead>\n",
       "    <tr style=\"text-align: right;\">\n",
       "      <th></th>\n",
       "      <th>age</th>\n",
       "      <th>bmi</th>\n",
       "      <th>children</th>\n",
       "      <th>charges</th>\n",
       "    </tr>\n",
       "  </thead>\n",
       "  <tbody>\n",
       "    <tr>\n",
       "      <th>count</th>\n",
       "      <td>1338.000000</td>\n",
       "      <td>1338.000000</td>\n",
       "      <td>1338.000000</td>\n",
       "      <td>1338.000000</td>\n",
       "    </tr>\n",
       "    <tr>\n",
       "      <th>mean</th>\n",
       "      <td>39.133782</td>\n",
       "      <td>30.663397</td>\n",
       "      <td>1.094918</td>\n",
       "      <td>13270.422265</td>\n",
       "    </tr>\n",
       "    <tr>\n",
       "      <th>std</th>\n",
       "      <td>14.958658</td>\n",
       "      <td>6.098187</td>\n",
       "      <td>1.205493</td>\n",
       "      <td>12110.011237</td>\n",
       "    </tr>\n",
       "    <tr>\n",
       "      <th>min</th>\n",
       "      <td>-58.000000</td>\n",
       "      <td>15.960000</td>\n",
       "      <td>0.000000</td>\n",
       "      <td>1121.873900</td>\n",
       "    </tr>\n",
       "    <tr>\n",
       "      <th>25%</th>\n",
       "      <td>26.000000</td>\n",
       "      <td>26.296250</td>\n",
       "      <td>0.000000</td>\n",
       "      <td>4740.287150</td>\n",
       "    </tr>\n",
       "    <tr>\n",
       "      <th>50%</th>\n",
       "      <td>39.000000</td>\n",
       "      <td>30.400000</td>\n",
       "      <td>1.000000</td>\n",
       "      <td>9382.033000</td>\n",
       "    </tr>\n",
       "    <tr>\n",
       "      <th>75%</th>\n",
       "      <td>51.000000</td>\n",
       "      <td>34.693750</td>\n",
       "      <td>2.000000</td>\n",
       "      <td>16639.912515</td>\n",
       "    </tr>\n",
       "    <tr>\n",
       "      <th>max</th>\n",
       "      <td>190.000000</td>\n",
       "      <td>53.130000</td>\n",
       "      <td>5.000000</td>\n",
       "      <td>63770.428010</td>\n",
       "    </tr>\n",
       "  </tbody>\n",
       "</table>\n",
       "</div>"
      ],
      "text/plain": [
       "               age          bmi     children       charges\n",
       "count  1338.000000  1338.000000  1338.000000   1338.000000\n",
       "mean     39.133782    30.663397     1.094918  13270.422265\n",
       "std      14.958658     6.098187     1.205493  12110.011237\n",
       "min     -58.000000    15.960000     0.000000   1121.873900\n",
       "25%      26.000000    26.296250     0.000000   4740.287150\n",
       "50%      39.000000    30.400000     1.000000   9382.033000\n",
       "75%      51.000000    34.693750     2.000000  16639.912515\n",
       "max     190.000000    53.130000     5.000000  63770.428010"
      ]
     },
     "execution_count": 6,
     "metadata": {},
     "output_type": "execute_result"
    }
   ],
   "source": [
    "df.describe()"
   ]
  },
  {
   "cell_type": "markdown",
   "id": "062bace7",
   "metadata": {},
   "source": [
    "#### Data cleaning"
   ]
  },
  {
   "cell_type": "code",
   "execution_count": 7,
   "id": "78a830be",
   "metadata": {},
   "outputs": [
    {
     "data": {
      "text/plain": [
       "age         0\n",
       "sex         0\n",
       "bmi         0\n",
       "classif     8\n",
       "children    0\n",
       "smoker      0\n",
       "region      0\n",
       "charges     0\n",
       "dtype: int64"
      ]
     },
     "execution_count": 7,
     "metadata": {},
     "output_type": "execute_result"
    }
   ],
   "source": [
    "df.isnull().sum()"
   ]
  },
  {
   "cell_type": "code",
   "execution_count": 8,
   "id": "482ec151",
   "metadata": {},
   "outputs": [
    {
     "data": {
      "text/plain": [
       "OB1     387\n",
       "PREO    383\n",
       "N       226\n",
       "OB2     224\n",
       "OB3      91\n",
       "UW       19\n",
       "Name: classif, dtype: int64"
      ]
     },
     "execution_count": 8,
     "metadata": {},
     "output_type": "execute_result"
    }
   ],
   "source": [
    "df[\"classif\"].value_counts()"
   ]
  },
  {
   "cell_type": "code",
   "execution_count": 9,
   "id": "284643fd",
   "metadata": {},
   "outputs": [
    {
     "data": {
      "text/plain": [
       "OB1     387\n",
       "PREO    383\n",
       "N       226\n",
       "OB2     224\n",
       "OB3      91\n",
       "UW       19\n",
       "Name: classif, dtype: int64"
      ]
     },
     "execution_count": 9,
     "metadata": {},
     "output_type": "execute_result"
    }
   ],
   "source": [
    "df[\"classif\"].value_counts()"
   ]
  },
  {
   "cell_type": "code",
   "execution_count": 10,
   "id": "a5530f87",
   "metadata": {},
   "outputs": [
    {
     "data": {
      "text/html": [
       "<div>\n",
       "<style scoped>\n",
       "    .dataframe tbody tr th:only-of-type {\n",
       "        vertical-align: middle;\n",
       "    }\n",
       "\n",
       "    .dataframe tbody tr th {\n",
       "        vertical-align: top;\n",
       "    }\n",
       "\n",
       "    .dataframe thead th {\n",
       "        text-align: right;\n",
       "    }\n",
       "</style>\n",
       "<table border=\"1\" class=\"dataframe\">\n",
       "  <thead>\n",
       "    <tr style=\"text-align: right;\">\n",
       "      <th></th>\n",
       "      <th>age</th>\n",
       "      <th>sex</th>\n",
       "      <th>bmi</th>\n",
       "      <th>classif</th>\n",
       "      <th>children</th>\n",
       "      <th>smoker</th>\n",
       "      <th>region</th>\n",
       "      <th>charges</th>\n",
       "    </tr>\n",
       "  </thead>\n",
       "  <tbody>\n",
       "    <tr>\n",
       "      <th>15</th>\n",
       "      <td>19</td>\n",
       "      <td>male</td>\n",
       "      <td>24.600</td>\n",
       "      <td>NaN</td>\n",
       "      <td>1</td>\n",
       "      <td>no</td>\n",
       "      <td>southwest</td>\n",
       "      <td>1837.23700</td>\n",
       "    </tr>\n",
       "    <tr>\n",
       "      <th>74</th>\n",
       "      <td>44</td>\n",
       "      <td>male</td>\n",
       "      <td>27.400</td>\n",
       "      <td>NaN</td>\n",
       "      <td>2</td>\n",
       "      <td>no</td>\n",
       "      <td>southwest</td>\n",
       "      <td>7726.85400</td>\n",
       "    </tr>\n",
       "    <tr>\n",
       "      <th>128</th>\n",
       "      <td>32</td>\n",
       "      <td>female</td>\n",
       "      <td>17.765</td>\n",
       "      <td>NaN</td>\n",
       "      <td>2</td>\n",
       "      <td>yes</td>\n",
       "      <td>northwest</td>\n",
       "      <td>32734.18630</td>\n",
       "    </tr>\n",
       "    <tr>\n",
       "      <th>173</th>\n",
       "      <td>35</td>\n",
       "      <td>female</td>\n",
       "      <td>34.800</td>\n",
       "      <td>NaN</td>\n",
       "      <td>1</td>\n",
       "      <td>no</td>\n",
       "      <td>southwest</td>\n",
       "      <td>5246.04700</td>\n",
       "    </tr>\n",
       "    <tr>\n",
       "      <th>559</th>\n",
       "      <td>19</td>\n",
       "      <td>male</td>\n",
       "      <td>35.530</td>\n",
       "      <td>NaN</td>\n",
       "      <td>0</td>\n",
       "      <td>no</td>\n",
       "      <td>northwest</td>\n",
       "      <td>1646.42970</td>\n",
       "    </tr>\n",
       "    <tr>\n",
       "      <th>671</th>\n",
       "      <td>29</td>\n",
       "      <td>female</td>\n",
       "      <td>31.160</td>\n",
       "      <td>NaN</td>\n",
       "      <td>0</td>\n",
       "      <td>no</td>\n",
       "      <td>northeast</td>\n",
       "      <td>3943.59540</td>\n",
       "    </tr>\n",
       "    <tr>\n",
       "      <th>839</th>\n",
       "      <td>59</td>\n",
       "      <td>female</td>\n",
       "      <td>31.350</td>\n",
       "      <td>NaN</td>\n",
       "      <td>0</td>\n",
       "      <td>no</td>\n",
       "      <td>northwest</td>\n",
       "      <td>12622.17950</td>\n",
       "    </tr>\n",
       "    <tr>\n",
       "      <th>1331</th>\n",
       "      <td>23</td>\n",
       "      <td>female</td>\n",
       "      <td>33.400</td>\n",
       "      <td>NaN</td>\n",
       "      <td>0</td>\n",
       "      <td>no</td>\n",
       "      <td>southwest</td>\n",
       "      <td>10795.93733</td>\n",
       "    </tr>\n",
       "  </tbody>\n",
       "</table>\n",
       "</div>"
      ],
      "text/plain": [
       "      age     sex     bmi classif  children smoker     region      charges\n",
       "15     19    male  24.600     NaN         1     no  southwest   1837.23700\n",
       "74     44    male  27.400     NaN         2     no  southwest   7726.85400\n",
       "128    32  female  17.765     NaN         2    yes  northwest  32734.18630\n",
       "173    35  female  34.800     NaN         1     no  southwest   5246.04700\n",
       "559    19    male  35.530     NaN         0     no  northwest   1646.42970\n",
       "671    29  female  31.160     NaN         0     no  northeast   3943.59540\n",
       "839    59  female  31.350     NaN         0     no  northwest  12622.17950\n",
       "1331   23  female  33.400     NaN         0     no  southwest  10795.93733"
      ]
     },
     "execution_count": 10,
     "metadata": {},
     "output_type": "execute_result"
    }
   ],
   "source": [
    "df[df[\"classif\"].isnull()]"
   ]
  },
  {
   "cell_type": "code",
   "execution_count": 11,
   "id": "1e3d777d",
   "metadata": {},
   "outputs": [
    {
     "data": {
      "text/html": [
       "<div>\n",
       "<style scoped>\n",
       "    .dataframe tbody tr th:only-of-type {\n",
       "        vertical-align: middle;\n",
       "    }\n",
       "\n",
       "    .dataframe tbody tr th {\n",
       "        vertical-align: top;\n",
       "    }\n",
       "\n",
       "    .dataframe thead th {\n",
       "        text-align: right;\n",
       "    }\n",
       "</style>\n",
       "<table border=\"1\" class=\"dataframe\">\n",
       "  <thead>\n",
       "    <tr style=\"text-align: right;\">\n",
       "      <th></th>\n",
       "      <th>bmi</th>\n",
       "    </tr>\n",
       "    <tr>\n",
       "      <th>classif</th>\n",
       "      <th></th>\n",
       "    </tr>\n",
       "  </thead>\n",
       "  <tbody>\n",
       "    <tr>\n",
       "      <th>N</th>\n",
       "      <td>22.628451</td>\n",
       "    </tr>\n",
       "    <tr>\n",
       "      <th>OB1</th>\n",
       "      <td>32.335827</td>\n",
       "    </tr>\n",
       "    <tr>\n",
       "      <th>OB2</th>\n",
       "      <td>37.189375</td>\n",
       "    </tr>\n",
       "    <tr>\n",
       "      <th>OB3</th>\n",
       "      <td>43.103791</td>\n",
       "    </tr>\n",
       "    <tr>\n",
       "      <th>PREO</th>\n",
       "      <td>27.616710</td>\n",
       "    </tr>\n",
       "    <tr>\n",
       "      <th>UW</th>\n",
       "      <td>17.555789</td>\n",
       "    </tr>\n",
       "  </tbody>\n",
       "</table>\n",
       "</div>"
      ],
      "text/plain": [
       "               bmi\n",
       "classif           \n",
       "N        22.628451\n",
       "OB1      32.335827\n",
       "OB2      37.189375\n",
       "OB3      43.103791\n",
       "PREO     27.616710\n",
       "UW       17.555789"
      ]
     },
     "execution_count": 11,
     "metadata": {},
     "output_type": "execute_result"
    }
   ],
   "source": [
    "pd.pivot_table(data=df,index=\"classif\",values=\"bmi\")"
   ]
  },
  {
   "cell_type": "code",
   "execution_count": 12,
   "id": "ea9df308",
   "metadata": {},
   "outputs": [],
   "source": [
    "df.dropna(inplace=True)"
   ]
  },
  {
   "cell_type": "code",
   "execution_count": 13,
   "id": "b01b7175",
   "metadata": {},
   "outputs": [],
   "source": [
    "#filling null values in classif according to bmi values\n",
    "conditions=[(df[\"bmi\"]<=18.335),(df[\"bmi\"]<=25) & (df[\"bmi\"]>18.335),(df[\"bmi\"]<=29.925)&(df[\"bmi\"]>25),(df[\"bmi\"]<=34.96)&(df[\"bmi\"]>29.925),(df[\"bmi\"]<=40)&(df[\"bmi\"]>34.96),df[\"bmi\"]>40]\n",
    "values=[\"UW\",\"N\",\"PREO\",\"OB1\",\"OB2\",\"OB3\"]\n",
    "df[\"classif\"]=np.select(conditions,values)"
   ]
  },
  {
   "cell_type": "code",
   "execution_count": 14,
   "id": "f790a8dd",
   "metadata": {},
   "outputs": [],
   "source": [
    "c=df.select_dtypes(include=\"object\").columns.tolist()"
   ]
  },
  {
   "cell_type": "code",
   "execution_count": 15,
   "id": "31c439b2",
   "metadata": {},
   "outputs": [
    {
     "name": "stdout",
     "output_type": "stream",
     "text": [
      "male      673\n",
      "female    657\n",
      "Name: sex, dtype: int64\n",
      "OB1     387\n",
      "PREO    383\n",
      "N       226\n",
      "OB2     224\n",
      "OB3      91\n",
      "UW       19\n",
      "Name: classif, dtype: int64\n",
      "no     1057\n",
      "yes     273\n",
      "Name: smoker, dtype: int64\n",
      "southeast    364\n",
      "northeast    323\n",
      "northwest    322\n",
      "southwest    321\n",
      "Name: region, dtype: int64\n"
     ]
    }
   ],
   "source": [
    "for i in c:\n",
    "    print(df[i].value_counts())"
   ]
  },
  {
   "cell_type": "code",
   "execution_count": 16,
   "id": "05771be4",
   "metadata": {},
   "outputs": [
    {
     "data": {
      "text/plain": [
       "{'whiskers': [<matplotlib.lines.Line2D at 0x21275008190>,\n",
       "  <matplotlib.lines.Line2D at 0x21275008460>],\n",
       " 'caps': [<matplotlib.lines.Line2D at 0x212750087f0>,\n",
       "  <matplotlib.lines.Line2D at 0x21275008a00>],\n",
       " 'boxes': [<matplotlib.lines.Line2D at 0x21274fece80>],\n",
       " 'medians': [<matplotlib.lines.Line2D at 0x21275008cd0>],\n",
       " 'fliers': [<matplotlib.lines.Line2D at 0x21275008fa0>],\n",
       " 'means': []}"
      ]
     },
     "execution_count": 16,
     "metadata": {},
     "output_type": "execute_result"
    },
    {
     "data": {
      "image/png": "[encoded data removed]",
      "text/plain": [
       "<Figure size 432x288 with 1 Axes>"
      ]
     },
     "metadata": {
      "needs_background": "light"
     },
     "output_type": "display_data"
    }
   ],
   "source": [
    "#age column has some unusual data. removing that\n",
    "plt.boxplot(df[\"age\"])"
   ]
  },
  {
   "cell_type": "code",
   "execution_count": 17,
   "id": "47fda6bb",
   "metadata": {},
   "outputs": [],
   "source": [
    "df.drop(df[df[\"age\"]<=0].index,inplace=True)"
   ]
  },
  {
   "cell_type": "code",
   "execution_count": 18,
   "id": "9867ff42",
   "metadata": {},
   "outputs": [],
   "source": [
    "df.drop(df[df[\"age\"]>100].index,inplace=True)"
   ]
  },
  {
   "cell_type": "markdown",
   "id": "c427438b",
   "metadata": {},
   "source": [
    "#### Data Visualization"
   ]
  },
  {
   "cell_type": "code",
   "execution_count": 420,
   "id": "99e59c2b",
   "metadata": {},
   "outputs": [
    {
     "data": {
      "text/plain": [
       "array([[<AxesSubplot:title={'center':'age'}>,\n",
       "        <AxesSubplot:title={'center':'bmi'}>],\n",
       "       [<AxesSubplot:title={'center':'children'}>,\n",
       "        <AxesSubplot:title={'center':'charges'}>]], dtype=object)"
      ]
     },
     "execution_count": 420,
     "metadata": {},
     "output_type": "execute_result"
    },
    {
     "data": {
      "image/png": "[encoded data removed]",
      "text/plain": [
       "<Figure size 720x720 with 4 Axes>"
      ]
     },
     "metadata": {
      "needs_background": "light"
     },
     "output_type": "display_data"
    }
   ],
   "source": [
    "df.hist(figsize=(10,10))"
   ]
  },
  {
   "cell_type": "code",
   "execution_count": 421,
   "id": "258d75b8",
   "metadata": {},
   "outputs": [],
   "source": [
    "#bmi is normally distributed and age is kinda uniformly distributed other than first bin \n",
    "#number of children = 0 is highest and data points is  also  highest in the first bin <10000 for charges"
   ]
  },
  {
   "cell_type": "code",
   "execution_count": 422,
   "id": "24377a91",
   "metadata": {},
   "outputs": [
    {
     "data": {
      "image/png": "[encoded data removed]",
      "text/plain": [
       "<Figure size 720x720 with 4 Axes>"
      ]
     },
     "metadata": {
      "needs_background": "light"
     },
     "output_type": "display_data"
    }
   ],
   "source": [
    "n=1\n",
    "plt.figure(figsize=(10,10))\n",
    "for i in df.select_dtypes(exclude=\"object\").columns.tolist():\n",
    "    plt.subplot(2,2,n)\n",
    "    sns.barplot(data=df,y=i,x=\"smoker\")\n",
    "    n=n+1"
   ]
  },
  {
   "cell_type": "code",
   "execution_count": 423,
   "id": "de169461",
   "metadata": {},
   "outputs": [],
   "source": [
    "#Here we can how numerical values are distributed wrt smoker.\n",
    "#only charges is getting affected from this variable and rest means are similar for smoker and non smoker"
   ]
  },
  {
   "cell_type": "code",
   "execution_count": 424,
   "id": "6c083578",
   "metadata": {},
   "outputs": [
    {
     "data": {
      "image/png": "[encoded data removed]",
      "text/plain": [
       "<Figure size 720x504 with 4 Axes>"
      ]
     },
     "metadata": {
      "needs_background": "light"
     },
     "output_type": "display_data"
    }
   ],
   "source": [
    "plt.figure(figsize=(10,7))\n",
    "n=1\n",
    "for i in c:\n",
    "    plt.subplot(2,2,n)\n",
    "    sns.countplot(data=df,x=i)\n",
    "    n=n+1"
   ]
  },
  {
   "cell_type": "code",
   "execution_count": 425,
   "id": "45166867",
   "metadata": {},
   "outputs": [],
   "source": [
    "#in above visuals we can count plots of categorical variables \n",
    "#majority are non smokers.\n",
    "#both the genders have almost equal count\n",
    "#southeast region has highest count\n",
    "#and in classif OB1 category followed by PRE0 has high count"
   ]
  },
  {
   "cell_type": "code",
   "execution_count": 426,
   "id": "392f094f",
   "metadata": {},
   "outputs": [
    {
     "data": {
      "image/png": "[encoded data removed]",
      "text/plain": [
       "<Figure size 864x648 with 4 Axes>"
      ]
     },
     "metadata": {
      "needs_background": "light"
     },
     "output_type": "display_data"
    }
   ],
   "source": [
    "n=1\n",
    "plt.figure(figsize=(12,9))\n",
    "for i in df[[\"sex\",\"region\",\"classif\",\"children\"]]:\n",
    "    plt.subplot(2,2,n)\n",
    "    sns.barplot(data=df,y=\"charges\",x=i)\n",
    "    n=n+1"
   ]
  },
  {
   "cell_type": "code",
   "execution_count": 427,
   "id": "7c1b23b6",
   "metadata": {},
   "outputs": [],
   "source": [
    "#In the above graphs we can how charges wrt different disrete variables\n",
    "#gender and region doesnt seem to much affect the charges\n",
    "#while obese people are having high charges\n",
    "#and people with no of children as 3 has high charges"
   ]
  },
  {
   "cell_type": "code",
   "execution_count": 428,
   "id": "3281b4a3",
   "metadata": {},
   "outputs": [
    {
     "data": {
      "text/plain": [
       "<AxesSubplot:xlabel='sex', ylabel='charges'>"
      ]
     },
     "execution_count": 428,
     "metadata": {},
     "output_type": "execute_result"
    },
    {
     "data": {
      "image/png": "[encoded data removed]",
      "text/plain": [
       "<Figure size 864x360 with 2 Axes>"
      ]
     },
     "metadata": {
      "needs_background": "light"
     },
     "output_type": "display_data"
    }
   ],
   "source": [
    "#multivariate analysis \n",
    "plt.figure(figsize=(12,5))\n",
    "plt.subplot(121)\n",
    "sns.barplot(data=df,x='classif',y=\"charges\",hue=\"smoker\")\n",
    "plt.subplot(122)\n",
    "sns.barplot(data=df,x='sex',y=\"charges\",hue=\"smoker\")"
   ]
  },
  {
   "cell_type": "code",
   "execution_count": 429,
   "id": "39323d8c",
   "metadata": {},
   "outputs": [],
   "source": [
    "#from multivariate analysis above, we can see how charges are distributed for various bmi level and gender\n",
    "#male smokers have high charges\n",
    "#obese smokers have high charges\n",
    "#but this is not giving any new information other than what we have before since charges doesnt have much affect on parameters others than bmi,smoker and age\n"
   ]
  },
  {
   "cell_type": "code",
   "execution_count": 430,
   "id": "e90a4421",
   "metadata": {},
   "outputs": [
    {
     "data": {
      "text/plain": [
       "<seaborn.axisgrid.PairGrid at 0x170b53c0f10>"
      ]
     },
     "execution_count": 430,
     "metadata": {},
     "output_type": "execute_result"
    },
    {
     "data": {
      "image/png": "[encoded data removed]",
      "text/plain": [
       "<Figure size 720x720 with 20 Axes>"
      ]
     },
     "metadata": {
      "needs_background": "light"
     },
     "output_type": "display_data"
    }
   ],
   "source": [
    "sns.pairplot(df)"
   ]
  },
  {
   "cell_type": "code",
   "execution_count": 431,
   "id": "e06bfde9",
   "metadata": {},
   "outputs": [],
   "source": [
    "#here we can see how numerical features are scattered\n",
    "#charges is correlated with bmi and age to some extent lets check their corr values "
   ]
  },
  {
   "cell_type": "code",
   "execution_count": 432,
   "id": "fb4ea524",
   "metadata": {},
   "outputs": [
    {
     "data": {
      "text/html": [
       "<div>\n",
       "<style scoped>\n",
       "    .dataframe tbody tr th:only-of-type {\n",
       "        vertical-align: middle;\n",
       "    }\n",
       "\n",
       "    .dataframe tbody tr th {\n",
       "        vertical-align: top;\n",
       "    }\n",
       "\n",
       "    .dataframe thead th {\n",
       "        text-align: right;\n",
       "    }\n",
       "</style>\n",
       "<table border=\"1\" class=\"dataframe\">\n",
       "  <thead>\n",
       "    <tr style=\"text-align: right;\">\n",
       "      <th></th>\n",
       "      <th>age</th>\n",
       "      <th>sex</th>\n",
       "      <th>bmi</th>\n",
       "      <th>classif</th>\n",
       "      <th>children</th>\n",
       "      <th>smoker</th>\n",
       "      <th>region</th>\n",
       "      <th>charges</th>\n",
       "    </tr>\n",
       "  </thead>\n",
       "  <tbody>\n",
       "    <tr>\n",
       "      <th>0</th>\n",
       "      <td>19</td>\n",
       "      <td>female</td>\n",
       "      <td>27.90</td>\n",
       "      <td>PREO</td>\n",
       "      <td>0</td>\n",
       "      <td>yes</td>\n",
       "      <td>southwest</td>\n",
       "      <td>16884.9240</td>\n",
       "    </tr>\n",
       "    <tr>\n",
       "      <th>1</th>\n",
       "      <td>18</td>\n",
       "      <td>male</td>\n",
       "      <td>33.77</td>\n",
       "      <td>OB1</td>\n",
       "      <td>1</td>\n",
       "      <td>no</td>\n",
       "      <td>southeast</td>\n",
       "      <td>1725.5523</td>\n",
       "    </tr>\n",
       "    <tr>\n",
       "      <th>2</th>\n",
       "      <td>28</td>\n",
       "      <td>male</td>\n",
       "      <td>33.00</td>\n",
       "      <td>OB1</td>\n",
       "      <td>3</td>\n",
       "      <td>no</td>\n",
       "      <td>southeast</td>\n",
       "      <td>4449.4620</td>\n",
       "    </tr>\n",
       "    <tr>\n",
       "      <th>4</th>\n",
       "      <td>32</td>\n",
       "      <td>male</td>\n",
       "      <td>28.88</td>\n",
       "      <td>PREO</td>\n",
       "      <td>0</td>\n",
       "      <td>no</td>\n",
       "      <td>northwest</td>\n",
       "      <td>3866.8552</td>\n",
       "    </tr>\n",
       "    <tr>\n",
       "      <th>5</th>\n",
       "      <td>31</td>\n",
       "      <td>female</td>\n",
       "      <td>25.74</td>\n",
       "      <td>PREO</td>\n",
       "      <td>0</td>\n",
       "      <td>no</td>\n",
       "      <td>southeast</td>\n",
       "      <td>3756.6216</td>\n",
       "    </tr>\n",
       "  </tbody>\n",
       "</table>\n",
       "</div>"
      ],
      "text/plain": [
       "   age     sex    bmi classif  children smoker     region     charges\n",
       "0   19  female  27.90    PREO         0    yes  southwest  16884.9240\n",
       "1   18    male  33.77     OB1         1     no  southeast   1725.5523\n",
       "2   28    male  33.00     OB1         3     no  southeast   4449.4620\n",
       "4   32    male  28.88    PREO         0     no  northwest   3866.8552\n",
       "5   31  female  25.74    PREO         0     no  southeast   3756.6216"
      ]
     },
     "execution_count": 432,
     "metadata": {},
     "output_type": "execute_result"
    }
   ],
   "source": [
    "df.head()"
   ]
  },
  {
   "cell_type": "markdown",
   "id": "8e678a4d",
   "metadata": {},
   "source": [
    "#### Feature Engineering"
   ]
  },
  {
   "cell_type": "code",
   "execution_count": 483,
   "id": "2f22c6f7",
   "metadata": {},
   "outputs": [],
   "source": [
    "#label encoding to convert categorical to numerical\n",
    "for i in c:\n",
    "    df[i]=LabelEncoder().fit_transform(df[i])"
   ]
  },
  {
   "cell_type": "code",
   "execution_count": null,
   "id": "42e645c5",
   "metadata": {},
   "outputs": [],
   "source": [
    "#plotting correlation matrix\n",
    "plt.figure(figsize=(15,5))\n",
    "sns.heatmap(df.corr(),annot=True)"
   ]
  },
  {
   "cell_type": "code",
   "execution_count": null,
   "id": "267acf69",
   "metadata": {},
   "outputs": [],
   "source": [
    "#here with respect to our target variable charges , smoker is highly correlated followed by age and bmi"
   ]
  },
  {
   "cell_type": "code",
   "execution_count": null,
   "id": "0fdc025a",
   "metadata": {},
   "outputs": [],
   "source": [
    "df.isnull().sum()"
   ]
  },
  {
   "cell_type": "code",
   "execution_count": null,
   "id": "d4c64a71",
   "metadata": {},
   "outputs": [],
   "source": [
    "df2=df.iloc[:,:-1]\n",
    "y=df[\"charges\"]"
   ]
  },
  {
   "cell_type": "code",
   "execution_count": 484,
   "id": "860f9bd1",
   "metadata": {},
   "outputs": [],
   "source": [
    "#Normalizing the features\n",
    "df=pd.DataFrame(MinMaxScaler().fit_transform(df2),columns=df2.columns)"
   ]
  },
  {
   "cell_type": "code",
   "execution_count": null,
   "id": "902e773f",
   "metadata": {},
   "outputs": [],
   "source": [
    "df.head()"
   ]
  },
  {
   "cell_type": "code",
   "execution_count": 485,
   "id": "f9b164fd",
   "metadata": {},
   "outputs": [],
   "source": [
    "#x=df.iloc[:,:-1]\n",
    "#considering only 3 highly correlated features\n",
    "x=df[[\"smoker\",\"bmi\",\"age\"]]"
   ]
  },
  {
   "cell_type": "code",
   "execution_count": 486,
   "id": "e3f80e86",
   "metadata": {},
   "outputs": [],
   "source": [
    "#train test split\n",
    "x_train,x_test,y_train,y_test=train_test_split(x,y,test_size=0.3,random_state=42)"
   ]
  },
  {
   "cell_type": "code",
   "execution_count": 487,
   "id": "9cb590c9",
   "metadata": {},
   "outputs": [
    {
     "data": {
      "text/plain": [
       "((933, 3), (400, 3), (933,), (400,))"
      ]
     },
     "execution_count": 487,
     "metadata": {},
     "output_type": "execute_result"
    }
   ],
   "source": [
    "x_train.shape,x_test.shape,y_train.shape,y_test.shape"
   ]
  },
  {
   "cell_type": "markdown",
   "id": "f3853c79",
   "metadata": {},
   "source": [
    "### Cross validations and tuning hyperparameters to select best algorithm and their best parameters"
   ]
  },
  {
   "cell_type": "code",
   "execution_count": 294,
   "id": "b4d925c4",
   "metadata": {},
   "outputs": [],
   "source": [
    "#defining our cross validation technique as repeated k fold with 10folds and 10repeats\n",
    "cv=RepeatedKFold(n_splits=10,n_repeats=10,random_state=1)"
   ]
  },
  {
   "cell_type": "markdown",
   "id": "710685ae",
   "metadata": {},
   "source": [
    "- Linear Regression:"
   ]
  },
  {
   "cell_type": "code",
   "execution_count": 297,
   "id": "8141f4f7",
   "metadata": {},
   "outputs": [
    {
     "data": {
      "text/plain": [
       "0.7415575621763371"
      ]
     },
     "execution_count": 297,
     "metadata": {},
     "output_type": "execute_result"
    }
   ],
   "source": [
    "model1=LinearRegression()\n",
    "score1=cross_val_score(model1,x,y,cv=cv,scoring=\"r2\").mean()\n",
    "score1"
   ]
  },
  {
   "cell_type": "code",
   "execution_count": null,
   "id": "9fa207b1",
   "metadata": {},
   "outputs": [],
   "source": [
    "#checked performance of LR with different features and these were best even with correlation \n",
    "#here we can see linear regression model has mean coefficient of determination R^2 as 74% for different pairs "
   ]
  },
  {
   "cell_type": "markdown",
   "id": "c4d757d5",
   "metadata": {},
   "source": [
    "- Decision tree regressor:"
   ]
  },
  {
   "cell_type": "code",
   "execution_count": 299,
   "id": "db72c340",
   "metadata": {},
   "outputs": [
    {
     "data": {
      "text/plain": [
       "GridSearchCV(cv=RepeatedKFold(n_repeats=10, n_splits=10, random_state=1),\n",
       "             estimator=DecisionTreeRegressor(), n_jobs=-1,\n",
       "             param_grid={'max_depth': [4, 5, 6, 7],\n",
       "                         'min_samples_leaf': [21, 22, 23, 24, 20, 25]},\n",
       "             scoring='r2')"
      ]
     },
     "execution_count": 299,
     "metadata": {},
     "output_type": "execute_result"
    }
   ],
   "source": [
    "dtc=DecisionTreeRegressor()\n",
    "p={'max_depth':[4,5,6,7],'min_samples_leaf':[21,22,23,24,20,25]}\n",
    "gs=GridSearchCV(estimator=dtc,param_grid=p,scoring=\"r2\",n_jobs=-1,cv=cv)\n",
    "gs.fit(x_train,y_train)"
   ]
  },
  {
   "cell_type": "code",
   "execution_count": 300,
   "id": "1f74c678",
   "metadata": {},
   "outputs": [
    {
     "data": {
      "text/plain": [
       "{'max_depth': 4, 'min_samples_leaf': 20}"
      ]
     },
     "execution_count": 300,
     "metadata": {},
     "output_type": "execute_result"
    }
   ],
   "source": [
    "gs.best_params_"
   ]
  },
  {
   "cell_type": "code",
   "execution_count": 301,
   "id": "9cf05506",
   "metadata": {},
   "outputs": [
    {
     "data": {
      "text/plain": [
       "0.858762422824214"
      ]
     },
     "execution_count": 301,
     "metadata": {},
     "output_type": "execute_result"
    }
   ],
   "source": [
    "gs.best_score_"
   ]
  },
  {
   "cell_type": "code",
   "execution_count": null,
   "id": "3e8b8c94",
   "metadata": {},
   "outputs": [],
   "source": [
    "#checked for best parameters to build the decision tree and found its best score as 85.8% \n",
    "#this is better than pervious linear regression"
   ]
  },
  {
   "cell_type": "code",
   "execution_count": 308,
   "id": "a389dca4",
   "metadata": {},
   "outputs": [
    {
     "data": {
      "text/plain": [
       "0.6898921971737967"
      ]
     },
     "execution_count": 308,
     "metadata": {},
     "output_type": "execute_result"
    }
   ],
   "source": [
    "#just considering the default hyperparameters for decision tree and chekcing its mean R^2 for different pairs \n",
    "model1=DecisionTreeRegressor()\n",
    "score1=cross_val_score(model1,x,y,cv=cv,scoring=\"r2\").mean()\n",
    "score1"
   ]
  },
  {
   "cell_type": "markdown",
   "id": "38db00c8",
   "metadata": {},
   "source": [
    "- Random forest Regressor"
   ]
  },
  {
   "cell_type": "code",
   "execution_count": 303,
   "id": "ba52c452",
   "metadata": {},
   "outputs": [],
   "source": [
    "rf=RandomForestRegressor()"
   ]
  },
  {
   "cell_type": "code",
   "execution_count": 304,
   "id": "9f061eb3",
   "metadata": {},
   "outputs": [
    {
     "data": {
      "text/plain": [
       "GridSearchCV(cv=10, estimator=RandomForestRegressor(), n_jobs=-1,\n",
       "             param_grid={'max_depth': [2, 3, 4, 5, 6, 7],\n",
       "                         'min_samples_leaf': [5, 6, 7, 8, 9],\n",
       "                         'n_estimators': [40, 50, 60, 100]},\n",
       "             scoring='r2')"
      ]
     },
     "execution_count": 304,
     "metadata": {},
     "output_type": "execute_result"
    }
   ],
   "source": [
    "p={'max_depth':[2,3,4,5,6,7],'min_samples_leaf':[5,6,7,8,9],'n_estimators':[40,50,60,100]}\n",
    "gs=GridSearchCV(estimator=rf,param_grid=p,scoring=\"r2\",n_jobs=-1,cv=10)\n",
    "gs.fit(x_train,y_train)"
   ]
  },
  {
   "cell_type": "code",
   "execution_count": 305,
   "id": "bdc1daed",
   "metadata": {},
   "outputs": [
    {
     "data": {
      "text/plain": [
       "{'max_depth': 4, 'min_samples_leaf': 6, 'n_estimators': 50}"
      ]
     },
     "execution_count": 305,
     "metadata": {},
     "output_type": "execute_result"
    }
   ],
   "source": [
    "gs.best_params_"
   ]
  },
  {
   "cell_type": "code",
   "execution_count": 306,
   "id": "789752ca",
   "metadata": {},
   "outputs": [
    {
     "data": {
      "text/plain": [
       "0.8615329075282357"
      ]
     },
     "execution_count": 306,
     "metadata": {},
     "output_type": "execute_result"
    }
   ],
   "source": [
    "gs.best_score_"
   ]
  },
  {
   "cell_type": "code",
   "execution_count": 307,
   "id": "98c880bc",
   "metadata": {},
   "outputs": [],
   "source": [
    "#without hyperparameter tuning"
   ]
  },
  {
   "cell_type": "code",
   "execution_count": 309,
   "id": "b0cc5f38",
   "metadata": {},
   "outputs": [
    {
     "data": {
      "text/plain": [
       "0.8069504930333082"
      ]
     },
     "execution_count": 309,
     "metadata": {},
     "output_type": "execute_result"
    }
   ],
   "source": [
    "model1=RandomForestRegressor()\n",
    "score1=cross_val_score(model1,x,y,cv=cv,scoring=\"r2\").mean()\n",
    "score1"
   ]
  },
  {
   "cell_type": "code",
   "execution_count": null,
   "id": "b60b7ce2",
   "metadata": {},
   "outputs": [],
   "source": [
    "#Random forest regressor with default parameters is not good\n",
    "#used gridsearchcv to find its best parameters and performance and found it better than using single tree with mean R^2 around 86%"
   ]
  },
  {
   "cell_type": "markdown",
   "id": "5cee43e7",
   "metadata": {},
   "source": [
    "- adaboost and stacking"
   ]
  },
  {
   "cell_type": "code",
   "execution_count": 311,
   "id": "139fc1ce",
   "metadata": {},
   "outputs": [
    {
     "data": {
      "text/plain": [
       "0.8139234346480093"
      ]
     },
     "execution_count": 311,
     "metadata": {},
     "output_type": "execute_result"
    }
   ],
   "source": [
    "#checking mean score for boosting techinque with adaboost regressor\n",
    "model1=AdaBoostRegressor()\n",
    "score1=cross_val_score(model1,x,y,cv=cv,scoring=\"r2\").mean()\n",
    "score1"
   ]
  },
  {
   "cell_type": "code",
   "execution_count": 312,
   "id": "ba0cc7fe",
   "metadata": {},
   "outputs": [
    {
     "data": {
      "text/plain": [
       "0.823229942121624"
      ]
     },
     "execution_count": 312,
     "metadata": {},
     "output_type": "execute_result"
    }
   ],
   "source": [
    "#using stacking with level0 base models as knn,decision tree and support vector regressor\n",
    "#using linear regression as meta model \n",
    "level0=[(\"knn\",KNeighborsRegressor()),(\"dtr\",DecisionTreeRegressor()),(\"svr\",SVR())]\n",
    "level1=LinearRegression()\n",
    "model=StackingRegressor(estimators=level0,final_estimator=level1,cv=5)\n",
    "cv=RepeatedKFold(n_splits=10, n_repeats=3, random_state=1)\n",
    "score4=cross_val_score(model,x,y,scoring=\"r2\",cv=cv,n_jobs=-1)\n",
    "score4.mean()"
   ]
  },
  {
   "cell_type": "code",
   "execution_count": 313,
   "id": "f76c8455",
   "metadata": {},
   "outputs": [
    {
     "data": {
      "text/plain": [
       "0.8508333087882344"
      ]
     },
     "execution_count": 313,
     "metadata": {},
     "output_type": "execute_result"
    }
   ],
   "source": [
    "#using hyperparamter for decision tree as found in gscv\n",
    "level0=[(\"knn\",KNeighborsRegressor()),(\"dtr\",DecisionTreeRegressor(max_depth=4, min_samples_leaf=20)),(\"svr\",SVR())]\n",
    "level1=LinearRegression()\n",
    "model=StackingRegressor(estimators=level0,final_estimator=level1,cv=5)\n",
    "cv=RepeatedKFold(n_splits=10, n_repeats=3, random_state=1)\n",
    "score4=cross_val_score(model,x,y,scoring=\"r2\",cv=cv,n_jobs=-1)\n",
    "score4.mean()"
   ]
  },
  {
   "cell_type": "code",
   "execution_count": null,
   "id": "46b27927",
   "metadata": {},
   "outputs": [],
   "source": [
    "#stacking is highly complex with respect to execution but it gave less R^2 than the random forest regressor\n",
    "#Adaboost regressor gave mean R^2 around 81% which is not good compared to others"
   ]
  },
  {
   "cell_type": "markdown",
   "id": "a98836a7",
   "metadata": {},
   "source": [
    "Coefficient of Determination found for various techniques:\n",
    "- Linear Regression:0.74\n",
    "- Decision Tree:0.69\n",
    "- Decsion Tree after tuning:0.85\n",
    "- Random Forest:0.81\n",
    "- Random Forest after tuning:0.86\n",
    "- Adaboost:0.81\n",
    "- Stacking:0.82"
   ]
  },
  {
   "cell_type": "markdown",
   "id": "9d1ae290",
   "metadata": {},
   "source": [
    "Conclusions:\n",
    "- Considering 3 features smoker,bmi,age for modelling gave better results\n",
    "- Linear Regression was not efficient enough to predict the charges\n",
    "- Decision Tree and Random Forest with default parameters are also not efficient\n",
    "- By tuning them wrt maximum depth , number of estimators ,minimum sample leaf from grid search cv we will get better results\n",
    "- Adaboost Stacking was also not good enough considering their Execution compexity and time required.\n",
    "- Best among all Random Forest with tuned parameters max depth as 4 , min samples leaf=6 will be considered for buiding the final model"
   ]
  },
  {
   "cell_type": "markdown",
   "id": "74f29a14",
   "metadata": {},
   "source": [
    "### Model Building with the best algorithm and its best parameter for this dataset : Random Forest Regressor"
   ]
  },
  {
   "cell_type": "code",
   "execution_count": 488,
   "id": "1b2a6a58",
   "metadata": {},
   "outputs": [],
   "source": [
    "model=RandomForestRegressor(max_depth=4,min_samples_leaf=6,n_estimators=100).fit(x_train,y_train)"
   ]
  },
  {
   "cell_type": "code",
   "execution_count": 315,
   "id": "98556bc6",
   "metadata": {},
   "outputs": [
    {
     "data": {
      "text/plain": [
       "0.8828592830361025"
      ]
     },
     "execution_count": 315,
     "metadata": {},
     "output_type": "execute_result"
    }
   ],
   "source": [
    "#Training R^2\n",
    "model.score(x_train,y_train)"
   ]
  },
  {
   "cell_type": "code",
   "execution_count": 316,
   "id": "6c6a88a2",
   "metadata": {},
   "outputs": [
    {
     "data": {
      "text/plain": [
       "0.8318386674222656"
      ]
     },
     "execution_count": 316,
     "metadata": {},
     "output_type": "execute_result"
    }
   ],
   "source": [
    "#Test R^2\n",
    "model.score(x_test,y_test)"
   ]
  },
  {
   "cell_type": "code",
   "execution_count": 317,
   "id": "83b40619",
   "metadata": {},
   "outputs": [],
   "source": [
    "y_pred=model.predict(x_test)"
   ]
  },
  {
   "cell_type": "code",
   "execution_count": 356,
   "id": "a682433b",
   "metadata": {},
   "outputs": [
    {
     "data": {
      "text/plain": [
       "25323250.19006743"
      ]
     },
     "execution_count": 356,
     "metadata": {},
     "output_type": "execute_result"
    }
   ],
   "source": [
    "#Mean Squared Error\n",
    "mse=mean_squared_error(y_test,y_pred)\n",
    "mse"
   ]
  },
  {
   "cell_type": "code",
   "execution_count": 354,
   "id": "2be7b03d",
   "metadata": {},
   "outputs": [
    {
     "data": {
      "text/plain": [
       "2718.228135218505"
      ]
     },
     "execution_count": 354,
     "metadata": {},
     "output_type": "execute_result"
    }
   ],
   "source": [
    "#Mean Absolute Error\n",
    "mae=mean_absolute_error(y_test,y_pred)\n",
    "mae"
   ]
  },
  {
   "cell_type": "code",
   "execution_count": 355,
   "id": "cef4d2de",
   "metadata": {},
   "outputs": [
    {
     "data": {
      "text/plain": [
       "5032.221198443827"
      ]
     },
     "execution_count": 355,
     "metadata": {},
     "output_type": "execute_result"
    }
   ],
   "source": [
    "#Root Mean Squre Error\n",
    "rmse=np.sqrt(mse)\n",
    "rmse"
   ]
  },
  {
   "cell_type": "code",
   "execution_count": 321,
   "id": "00414522",
   "metadata": {},
   "outputs": [
    {
     "data": {
      "text/html": [
       "<div>\n",
       "<style scoped>\n",
       "    .dataframe tbody tr th:only-of-type {\n",
       "        vertical-align: middle;\n",
       "    }\n",
       "\n",
       "    .dataframe tbody tr th {\n",
       "        vertical-align: top;\n",
       "    }\n",
       "\n",
       "    .dataframe thead th {\n",
       "        text-align: right;\n",
       "    }\n",
       "</style>\n",
       "<table border=\"1\" class=\"dataframe\">\n",
       "  <thead>\n",
       "    <tr style=\"text-align: right;\">\n",
       "      <th></th>\n",
       "      <th>actual y</th>\n",
       "      <th>predicted y</th>\n",
       "    </tr>\n",
       "  </thead>\n",
       "  <tbody>\n",
       "    <tr>\n",
       "      <th>901</th>\n",
       "      <td>48673.5588</td>\n",
       "      <td>48859.070288</td>\n",
       "    </tr>\n",
       "    <tr>\n",
       "      <th>1065</th>\n",
       "      <td>7045.4990</td>\n",
       "      <td>7313.820707</td>\n",
       "    </tr>\n",
       "    <tr>\n",
       "      <th>1254</th>\n",
       "      <td>4415.1588</td>\n",
       "      <td>6633.455889</td>\n",
       "    </tr>\n",
       "    <tr>\n",
       "      <th>300</th>\n",
       "      <td>6746.7425</td>\n",
       "      <td>6733.506493</td>\n",
       "    </tr>\n",
       "    <tr>\n",
       "      <th>239</th>\n",
       "      <td>7152.6714</td>\n",
       "      <td>9048.309383</td>\n",
       "    </tr>\n",
       "    <tr>\n",
       "      <th>...</th>\n",
       "      <td>...</td>\n",
       "      <td>...</td>\n",
       "    </tr>\n",
       "    <tr>\n",
       "      <th>864</th>\n",
       "      <td>8782.4690</td>\n",
       "      <td>11612.699575</td>\n",
       "    </tr>\n",
       "    <tr>\n",
       "      <th>711</th>\n",
       "      <td>10107.2206</td>\n",
       "      <td>11650.551812</td>\n",
       "    </tr>\n",
       "    <tr>\n",
       "      <th>664</th>\n",
       "      <td>27037.9141</td>\n",
       "      <td>25885.143490</td>\n",
       "    </tr>\n",
       "    <tr>\n",
       "      <th>1102</th>\n",
       "      <td>3471.4096</td>\n",
       "      <td>5453.524600</td>\n",
       "    </tr>\n",
       "    <tr>\n",
       "      <th>1302</th>\n",
       "      <td>3208.7870</td>\n",
       "      <td>5278.424164</td>\n",
       "    </tr>\n",
       "  </tbody>\n",
       "</table>\n",
       "<p>400 rows × 2 columns</p>\n",
       "</div>"
      ],
      "text/plain": [
       "        actual y   predicted y\n",
       "901   48673.5588  48859.070288\n",
       "1065   7045.4990   7313.820707\n",
       "1254   4415.1588   6633.455889\n",
       "300    6746.7425   6733.506493\n",
       "239    7152.6714   9048.309383\n",
       "...          ...           ...\n",
       "864    8782.4690  11612.699575\n",
       "711   10107.2206  11650.551812\n",
       "664   27037.9141  25885.143490\n",
       "1102   3471.4096   5453.524600\n",
       "1302   3208.7870   5278.424164\n",
       "\n",
       "[400 rows x 2 columns]"
      ]
     },
     "execution_count": 321,
     "metadata": {},
     "output_type": "execute_result"
    }
   ],
   "source": [
    "#Charges Actual vs predicted by model\n",
    "pd.DataFrame({\"actual y\":y_test,\"predicted y\":y_pred})"
   ]
  },
  {
   "cell_type": "code",
   "execution_count": 350,
   "id": "5ff5b60c",
   "metadata": {},
   "outputs": [],
   "source": [
    "residuals=y_test-y_pred"
   ]
  },
  {
   "cell_type": "code",
   "execution_count": 351,
   "id": "dfd4a77c",
   "metadata": {},
   "outputs": [
    {
     "data": {
      "text/plain": [
       "<seaborn.axisgrid.FacetGrid at 0x170b7e3ecd0>"
      ]
     },
     "execution_count": 351,
     "metadata": {},
     "output_type": "execute_result"
    },
    {
     "data": {
      "image/png": "[encoded data removed]",
      "text/plain": [
       "<Figure size 360x360 with 1 Axes>"
      ]
     },
     "metadata": {
      "needs_background": "light"
     },
     "output_type": "display_data"
    }
   ],
   "source": [
    "#plot of residuals of our model\n",
    "sns.displot(residuals)"
   ]
  },
  {
   "cell_type": "markdown",
   "id": "f1ad6d88",
   "metadata": {},
   "source": [
    "- Built the final model using Random Forest Regressor with hyperparameters got from gridsearch cv method\n",
    "- Model has coefficient of determination around 83%.So model is a good model to predict the insurance charges.\n",
    "\n"
   ]
  },
  {
   "cell_type": "markdown",
   "id": "b95dab03",
   "metadata": {},
   "source": [
    "### Pipeline"
   ]
  },
  {
   "cell_type": "code",
   "execution_count": 19,
   "id": "b0c6efa7",
   "metadata": {},
   "outputs": [
    {
     "data": {
      "text/html": [
       "<div>\n",
       "<style scoped>\n",
       "    .dataframe tbody tr th:only-of-type {\n",
       "        vertical-align: middle;\n",
       "    }\n",
       "\n",
       "    .dataframe tbody tr th {\n",
       "        vertical-align: top;\n",
       "    }\n",
       "\n",
       "    .dataframe thead th {\n",
       "        text-align: right;\n",
       "    }\n",
       "</style>\n",
       "<table border=\"1\" class=\"dataframe\">\n",
       "  <thead>\n",
       "    <tr style=\"text-align: right;\">\n",
       "      <th></th>\n",
       "      <th>smoker</th>\n",
       "      <th>bmi</th>\n",
       "      <th>age</th>\n",
       "    </tr>\n",
       "  </thead>\n",
       "  <tbody>\n",
       "    <tr>\n",
       "      <th>0</th>\n",
       "      <td>yes</td>\n",
       "      <td>27.90</td>\n",
       "      <td>19</td>\n",
       "    </tr>\n",
       "    <tr>\n",
       "      <th>1</th>\n",
       "      <td>no</td>\n",
       "      <td>33.77</td>\n",
       "      <td>18</td>\n",
       "    </tr>\n",
       "    <tr>\n",
       "      <th>2</th>\n",
       "      <td>no</td>\n",
       "      <td>33.00</td>\n",
       "      <td>28</td>\n",
       "    </tr>\n",
       "    <tr>\n",
       "      <th>4</th>\n",
       "      <td>no</td>\n",
       "      <td>28.88</td>\n",
       "      <td>32</td>\n",
       "    </tr>\n",
       "    <tr>\n",
       "      <th>5</th>\n",
       "      <td>no</td>\n",
       "      <td>25.74</td>\n",
       "      <td>31</td>\n",
       "    </tr>\n",
       "  </tbody>\n",
       "</table>\n",
       "</div>"
      ],
      "text/plain": [
       "  smoker    bmi  age\n",
       "0    yes  27.90   19\n",
       "1     no  33.77   18\n",
       "2     no  33.00   28\n",
       "4     no  28.88   32\n",
       "5     no  25.74   31"
      ]
     },
     "execution_count": 19,
     "metadata": {},
     "output_type": "execute_result"
    }
   ],
   "source": [
    "x=df[[\"smoker\",\"bmi\",\"age\"]]\n",
    "x.head()"
   ]
  },
  {
   "cell_type": "code",
   "execution_count": 20,
   "id": "17525e89",
   "metadata": {},
   "outputs": [
    {
     "data": {
      "text/plain": [
       "0    16884.9240\n",
       "1     1725.5523\n",
       "2     4449.4620\n",
       "4     3866.8552\n",
       "5     3756.6216\n",
       "Name: charges, dtype: float64"
      ]
     },
     "execution_count": 20,
     "metadata": {},
     "output_type": "execute_result"
    }
   ],
   "source": [
    "y=df[\"charges\"]\n",
    "y.head()"
   ]
  },
  {
   "cell_type": "code",
   "execution_count": 21,
   "id": "67d49009",
   "metadata": {},
   "outputs": [],
   "source": [
    "x_train,x_test,y_train,y_test=train_test_split(x,y,test_size=0.3,random_state=42)"
   ]
  },
  {
   "cell_type": "code",
   "execution_count": 22,
   "id": "88e6aa87",
   "metadata": {},
   "outputs": [
    {
     "data": {
      "text/plain": [
       "(927, 3)"
      ]
     },
     "execution_count": 22,
     "metadata": {},
     "output_type": "execute_result"
    }
   ],
   "source": [
    "x_train.shape"
   ]
  },
  {
   "cell_type": "code",
   "execution_count": 23,
   "id": "5745269c",
   "metadata": {},
   "outputs": [],
   "source": [
    "# Display Pipeline\n",
    "\n",
    "from sklearn import set_config\n",
    "set_config(display='diagram')\n"
   ]
  },
  {
   "cell_type": "code",
   "execution_count": 24,
   "id": "79351f2e",
   "metadata": {},
   "outputs": [],
   "source": [
    "trf1=ColumnTransformer([(\"encoder\",OneHotEncoder(sparse=False,handle_unknown='ignore'),[0])],remainder=\"passthrough\")\n",
    "trf2=ColumnTransformer([(\"scaling\",MinMaxScaler(),slice(0,4))])\n",
    "trf3=RandomForestRegressor(max_depth=4,min_samples_leaf=6,n_estimators=100)"
   ]
  },
  {
   "cell_type": "code",
   "execution_count": 25,
   "id": "16d4d7d3",
   "metadata": {},
   "outputs": [],
   "source": [
    "pipe = Pipeline([\n",
    "    ('trf1',trf1),\n",
    "    ('trf2',trf2),\n",
    "    ('trf3',trf3)\n",
    "])"
   ]
  },
  {
   "cell_type": "code",
   "execution_count": 26,
   "id": "40480f0a",
   "metadata": {},
   "outputs": [
    {
     "data": {
      "text/html": [
       "<style>#sk-dd872b69-73db-4239-a6d3-9a4c93da67af {color: black;background-color: white;}#sk-dd872b69-73db-4239-a6d3-9a4c93da67af pre{padding: 0;}#sk-dd872b69-73db-4239-a6d3-9a4c93da67af div.sk-toggleable {background-color: white;}#sk-dd872b69-73db-4239-a6d3-9a4c93da67af label.sk-toggleable__label {cursor: pointer;display: block;width: 100%;margin-bottom: 0;padding: 0.3em;box-sizing: border-box;text-align: center;}#sk-dd872b69-73db-4239-a6d3-9a4c93da67af label.sk-toggleable__label-arrow:before {content: \"▸\";float: left;margin-right: 0.25em;color: #696969;}#sk-dd872b69-73db-4239-a6d3-9a4c93da67af label.sk-toggleable__label-arrow:hover:before {color: black;}#sk-dd872b69-73db-4239-a6d3-9a4c93da67af div.sk-estimator:hover label.sk-toggleable__label-arrow:before {color: black;}#sk-dd872b69-73db-4239-a6d3-9a4c93da67af div.sk-toggleable__content {max-height: 0;max-width: 0;overflow: hidden;text-align: left;background-color: #f0f8ff;}#sk-dd872b69-73db-4239-a6d3-9a4c93da67af div.sk-toggleable__content pre {margin: 0.2em;color: black;border-radius: 0.25em;background-color: #f0f8ff;}#sk-dd872b69-73db-4239-a6d3-9a4c93da67af input.sk-toggleable__control:checked~div.sk-toggleable__content {max-height: 200px;max-width: 100%;overflow: auto;}#sk-dd872b69-73db-4239-a6d3-9a4c93da67af input.sk-toggleable__control:checked~label.sk-toggleable__label-arrow:before {content: \"▾\";}#sk-dd872b69-73db-4239-a6d3-9a4c93da67af div.sk-estimator input.sk-toggleable__control:checked~label.sk-toggleable__label {background-color: #d4ebff;}#sk-dd872b69-73db-4239-a6d3-9a4c93da67af div.sk-label input.sk-toggleable__control:checked~label.sk-toggleable__label {background-color: #d4ebff;}#sk-dd872b69-73db-4239-a6d3-9a4c93da67af input.sk-hidden--visually {border: 0;clip: rect(1px 1px 1px 1px);clip: rect(1px, 1px, 1px, 1px);height: 1px;margin: -1px;overflow: hidden;padding: 0;position: absolute;width: 1px;}#sk-dd872b69-73db-4239-a6d3-9a4c93da67af div.sk-estimator {font-family: monospace;background-color: #f0f8ff;border: 1px dotted black;border-radius: 0.25em;box-sizing: border-box;margin-bottom: 0.5em;}#sk-dd872b69-73db-4239-a6d3-9a4c93da67af div.sk-estimator:hover {background-color: #d4ebff;}#sk-dd872b69-73db-4239-a6d3-9a4c93da67af div.sk-parallel-item::after {content: \"\";width: 100%;border-bottom: 1px solid gray;flex-grow: 1;}#sk-dd872b69-73db-4239-a6d3-9a4c93da67af div.sk-label:hover label.sk-toggleable__label {background-color: #d4ebff;}#sk-dd872b69-73db-4239-a6d3-9a4c93da67af div.sk-serial::before {content: \"\";position: absolute;border-left: 1px solid gray;box-sizing: border-box;top: 2em;bottom: 0;left: 50%;}#sk-dd872b69-73db-4239-a6d3-9a4c93da67af div.sk-serial {display: flex;flex-direction: column;align-items: center;background-color: white;padding-right: 0.2em;padding-left: 0.2em;}#sk-dd872b69-73db-4239-a6d3-9a4c93da67af div.sk-item {z-index: 1;}#sk-dd872b69-73db-4239-a6d3-9a4c93da67af div.sk-parallel {display: flex;align-items: stretch;justify-content: center;background-color: white;}#sk-dd872b69-73db-4239-a6d3-9a4c93da67af div.sk-parallel::before {content: \"\";position: absolute;border-left: 1px solid gray;box-sizing: border-box;top: 2em;bottom: 0;left: 50%;}#sk-dd872b69-73db-4239-a6d3-9a4c93da67af div.sk-parallel-item {display: flex;flex-direction: column;position: relative;background-color: white;}#sk-dd872b69-73db-4239-a6d3-9a4c93da67af div.sk-parallel-item:first-child::after {align-self: flex-end;width: 50%;}#sk-dd872b69-73db-4239-a6d3-9a4c93da67af div.sk-parallel-item:last-child::after {align-self: flex-start;width: 50%;}#sk-dd872b69-73db-4239-a6d3-9a4c93da67af div.sk-parallel-item:only-child::after {width: 0;}#sk-dd872b69-73db-4239-a6d3-9a4c93da67af div.sk-dashed-wrapped {border: 1px dashed gray;margin: 0 0.4em 0.5em 0.4em;box-sizing: border-box;padding-bottom: 0.4em;background-color: white;position: relative;}#sk-dd872b69-73db-4239-a6d3-9a4c93da67af div.sk-label label {font-family: monospace;font-weight: bold;background-color: white;display: inline-block;line-height: 1.2em;}#sk-dd872b69-73db-4239-a6d3-9a4c93da67af div.sk-label-container {position: relative;z-index: 2;text-align: center;}#sk-dd872b69-73db-4239-a6d3-9a4c93da67af div.sk-container {/* jupyter's `normalize.less` sets `[hidden] { display: none; }` but bootstrap.min.css set `[hidden] { display: none !important; }` so we also need the `!important` here to be able to override the default hidden behavior on the sphinx rendered scikit-learn.org. See: https://github.com/scikit-learn/scikit-learn/issues/21755 */display: inline-block !important;position: relative;}#sk-dd872b69-73db-4239-a6d3-9a4c93da67af div.sk-text-repr-fallback {display: none;}</style><div id=\"sk-dd872b69-73db-4239-a6d3-9a4c93da67af\" class=\"sk-top-container\"><div class=\"sk-text-repr-fallback\"><pre>Pipeline(steps=[(&#x27;trf1&#x27;,\n",
       "                 ColumnTransformer(remainder=&#x27;passthrough&#x27;,\n",
       "                                   transformers=[(&#x27;encoder&#x27;,\n",
       "                                                  OneHotEncoder(handle_unknown=&#x27;ignore&#x27;,\n",
       "                                                                sparse=False),\n",
       "                                                  [0])])),\n",
       "                (&#x27;trf2&#x27;,\n",
       "                 ColumnTransformer(transformers=[(&#x27;scaling&#x27;, MinMaxScaler(),\n",
       "                                                  slice(0, 4, None))])),\n",
       "                (&#x27;trf3&#x27;,\n",
       "                 RandomForestRegressor(max_depth=4, min_samples_leaf=6))])</pre><b>Please rerun this cell to show the HTML repr or trust the notebook.</b></div><div class=\"sk-container\" hidden><div class=\"sk-item sk-dashed-wrapped\"><div class=\"sk-label-container\"><div class=\"sk-label sk-toggleable\"><input class=\"sk-toggleable__control sk-hidden--visually\" id=\"e9ac7809-f31b-496b-8728-f1ba6afc2eab\" type=\"checkbox\" ><label for=\"e9ac7809-f31b-496b-8728-f1ba6afc2eab\" class=\"sk-toggleable__label sk-toggleable__label-arrow\">Pipeline</label><div class=\"sk-toggleable__content\"><pre>Pipeline(steps=[(&#x27;trf1&#x27;,\n",
       "                 ColumnTransformer(remainder=&#x27;passthrough&#x27;,\n",
       "                                   transformers=[(&#x27;encoder&#x27;,\n",
       "                                                  OneHotEncoder(handle_unknown=&#x27;ignore&#x27;,\n",
       "                                                                sparse=False),\n",
       "                                                  [0])])),\n",
       "                (&#x27;trf2&#x27;,\n",
       "                 ColumnTransformer(transformers=[(&#x27;scaling&#x27;, MinMaxScaler(),\n",
       "                                                  slice(0, 4, None))])),\n",
       "                (&#x27;trf3&#x27;,\n",
       "                 RandomForestRegressor(max_depth=4, min_samples_leaf=6))])</pre></div></div></div><div class=\"sk-serial\"><div class=\"sk-item sk-dashed-wrapped\"><div class=\"sk-label-container\"><div class=\"sk-label sk-toggleable\"><input class=\"sk-toggleable__control sk-hidden--visually\" id=\"3eeac32e-377a-4f27-8f50-42c0677bea64\" type=\"checkbox\" ><label for=\"3eeac32e-377a-4f27-8f50-42c0677bea64\" class=\"sk-toggleable__label sk-toggleable__label-arrow\">trf1: ColumnTransformer</label><div class=\"sk-toggleable__content\"><pre>ColumnTransformer(remainder=&#x27;passthrough&#x27;,\n",
       "                  transformers=[(&#x27;encoder&#x27;,\n",
       "                                 OneHotEncoder(handle_unknown=&#x27;ignore&#x27;,\n",
       "                                               sparse=False),\n",
       "                                 [0])])</pre></div></div></div><div class=\"sk-parallel\"><div class=\"sk-parallel-item\"><div class=\"sk-item\"><div class=\"sk-label-container\"><div class=\"sk-label sk-toggleable\"><input class=\"sk-toggleable__control sk-hidden--visually\" id=\"0ab320a7-e061-4af0-84a7-725daa9c82e6\" type=\"checkbox\" ><label for=\"0ab320a7-e061-4af0-84a7-725daa9c82e6\" class=\"sk-toggleable__label sk-toggleable__label-arrow\">encoder</label><div class=\"sk-toggleable__content\"><pre>[0]</pre></div></div></div><div class=\"sk-serial\"><div class=\"sk-item\"><div class=\"sk-estimator sk-toggleable\"><input class=\"sk-toggleable__control sk-hidden--visually\" id=\"84efca69-7ffe-45bb-b86f-18722be018e4\" type=\"checkbox\" ><label for=\"84efca69-7ffe-45bb-b86f-18722be018e4\" class=\"sk-toggleable__label sk-toggleable__label-arrow\">OneHotEncoder</label><div class=\"sk-toggleable__content\"><pre>OneHotEncoder(handle_unknown=&#x27;ignore&#x27;, sparse=False)</pre></div></div></div></div></div></div><div class=\"sk-parallel-item\"><div class=\"sk-item\"><div class=\"sk-label-container\"><div class=\"sk-label sk-toggleable\"><input class=\"sk-toggleable__control sk-hidden--visually\" id=\"0239f350-5a8b-4d97-9e25-6b27a1fa631e\" type=\"checkbox\" ><label for=\"0239f350-5a8b-4d97-9e25-6b27a1fa631e\" class=\"sk-toggleable__label sk-toggleable__label-arrow\">remainder</label><div class=\"sk-toggleable__content\"><pre>[&#x27;bmi&#x27;, &#x27;age&#x27;]</pre></div></div></div><div class=\"sk-serial\"><div class=\"sk-item\"><div class=\"sk-estimator sk-toggleable\"><input class=\"sk-toggleable__control sk-hidden--visually\" id=\"2c7b7af0-7cf2-4d64-82a1-7b13b7ce6c1b\" type=\"checkbox\" ><label for=\"2c7b7af0-7cf2-4d64-82a1-7b13b7ce6c1b\" class=\"sk-toggleable__label sk-toggleable__label-arrow\">passthrough</label><div class=\"sk-toggleable__content\"><pre>passthrough</pre></div></div></div></div></div></div></div></div><div class=\"sk-item sk-dashed-wrapped\"><div class=\"sk-label-container\"><div class=\"sk-label sk-toggleable\"><input class=\"sk-toggleable__control sk-hidden--visually\" id=\"4ca90a1d-fabd-4be7-97c8-c146b4b4ccc8\" type=\"checkbox\" ><label for=\"4ca90a1d-fabd-4be7-97c8-c146b4b4ccc8\" class=\"sk-toggleable__label sk-toggleable__label-arrow\">trf2: ColumnTransformer</label><div class=\"sk-toggleable__content\"><pre>ColumnTransformer(transformers=[(&#x27;scaling&#x27;, MinMaxScaler(), slice(0, 4, None))])</pre></div></div></div><div class=\"sk-parallel\"><div class=\"sk-parallel-item\"><div class=\"sk-item\"><div class=\"sk-label-container\"><div class=\"sk-label sk-toggleable\"><input class=\"sk-toggleable__control sk-hidden--visually\" id=\"6d4c4d70-9725-41fd-8c96-1b2eabd65a86\" type=\"checkbox\" ><label for=\"6d4c4d70-9725-41fd-8c96-1b2eabd65a86\" class=\"sk-toggleable__label sk-toggleable__label-arrow\">scaling</label><div class=\"sk-toggleable__content\"><pre>slice(0, 4, None)</pre></div></div></div><div class=\"sk-serial\"><div class=\"sk-item\"><div class=\"sk-estimator sk-toggleable\"><input class=\"sk-toggleable__control sk-hidden--visually\" id=\"c752f8c4-9eb3-4028-bf86-0745b8ff2f2b\" type=\"checkbox\" ><label for=\"c752f8c4-9eb3-4028-bf86-0745b8ff2f2b\" class=\"sk-toggleable__label sk-toggleable__label-arrow\">MinMaxScaler</label><div class=\"sk-toggleable__content\"><pre>MinMaxScaler()</pre></div></div></div></div></div></div></div></div><div class=\"sk-item\"><div class=\"sk-estimator sk-toggleable\"><input class=\"sk-toggleable__control sk-hidden--visually\" id=\"e2e3c152-7c2f-495e-99d0-f36516590236\" type=\"checkbox\" ><label for=\"e2e3c152-7c2f-495e-99d0-f36516590236\" class=\"sk-toggleable__label sk-toggleable__label-arrow\">RandomForestRegressor</label><div class=\"sk-toggleable__content\"><pre>RandomForestRegressor(max_depth=4, min_samples_leaf=6)</pre></div></div></div></div></div></div></div>"
      ],
      "text/plain": [
       "Pipeline(steps=[('trf1',\n",
       "                 ColumnTransformer(remainder='passthrough',\n",
       "                                   transformers=[('encoder',\n",
       "                                                  OneHotEncoder(handle_unknown='ignore',\n",
       "                                                                sparse=False),\n",
       "                                                  [0])])),\n",
       "                ('trf2',\n",
       "                 ColumnTransformer(transformers=[('scaling', MinMaxScaler(),\n",
       "                                                  slice(0, 4, None))])),\n",
       "                ('trf3',\n",
       "                 RandomForestRegressor(max_depth=4, min_samples_leaf=6))])"
      ]
     },
     "execution_count": 26,
     "metadata": {},
     "output_type": "execute_result"
    }
   ],
   "source": [
    "pipe.fit(x_train,y_train)"
   ]
  },
  {
   "cell_type": "code",
   "execution_count": 27,
   "id": "e561406f",
   "metadata": {},
   "outputs": [
    {
     "data": {
      "text/plain": [
       "0.8707360564738038"
      ]
     },
     "execution_count": 27,
     "metadata": {},
     "output_type": "execute_result"
    }
   ],
   "source": [
    "pipe.score(x_train,y_train)"
   ]
  },
  {
   "cell_type": "code",
   "execution_count": 28,
   "id": "2d958caf",
   "metadata": {},
   "outputs": [],
   "source": [
    "pickle.dump(pipe,open('regression.pkl','wb'))"
   ]
  },
  {
   "cell_type": "code",
   "execution_count": 29,
   "id": "0aabdcd6",
   "metadata": {},
   "outputs": [],
   "source": [
    "model=pickle.load(open('regression.pkl','rb'))"
   ]
  },
  {
   "cell_type": "code",
   "execution_count": 30,
   "id": "6ce6b197",
   "metadata": {},
   "outputs": [],
   "source": [
    "result=model.predict(np.array(['no',33.345,47]).reshape(1,3))"
   ]
  },
  {
   "cell_type": "code",
   "execution_count": 31,
   "id": "58fd12bc",
   "metadata": {},
   "outputs": [
    {
     "data": {
      "text/plain": [
       "9631.371195747377"
      ]
     },
     "execution_count": 31,
     "metadata": {},
     "output_type": "execute_result"
    }
   ],
   "source": [
    "result[0]"
   ]
  },
  {
   "cell_type": "code",
   "execution_count": null,
   "id": "be3c4eba",
   "metadata": {},
   "outputs": [],
   "source": []
  }
 ],
 "metadata": {
  "kernelspec": {
   "display_name": "Python 3 (ipykernel)",
   "language": "python",
   "name": "python3"
  },
  "language_info": {
   "codemirror_mode": {
    "name": "ipython",
    "version": 3
   },
   "file_extension": ".py",
   "mimetype": "text/x-python",
   "name": "python",
   "nbconvert_exporter": "python",
   "pygments_lexer": "ipython3",
   "version": "3.9.12"
  }
 },
 "nbformat": 4,
 "nbformat_minor": 5
}
